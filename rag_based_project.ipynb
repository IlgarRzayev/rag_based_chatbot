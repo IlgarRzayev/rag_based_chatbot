{
  "nbformat": 4,
  "nbformat_minor": 0,
  "metadata": {
    "colab": {
      "provenance": []
    },
    "kernelspec": {
      "name": "python3",
      "display_name": "Python 3"
    },
    "language_info": {
      "name": "python"
    }
  },
  "cells": [
    {
      "cell_type": "markdown",
      "source": [
        "**1. Geliştirme Ortamı (Kurulum)**\n",
        "\n",
        "Proje için gerekli tüm kütüphaneler yüklenmektedir.\n",
        "LangChain, FAISS, Gemini API ve Gradio bileşenleri RAG tabanlı chatbot için gereklidir."
      ],
      "metadata": {
        "id": "_I78joAY3ljI"
      }
    },
    {
      "cell_type": "code",
      "execution_count": null,
      "metadata": {
        "id": "AYkyf6MOgnpb"
      },
      "outputs": [],
      "source": [
        "!pip install -q google-generativeai langchain langchain-community faiss-cpu sentence-transformers langchain-google-genai datasets huggingface_hub pyarrow gradio\n"
      ]
    },
    {
      "cell_type": "markdown",
      "source": [
        "**2. API ve Modül Kurulumu**\n",
        "\n",
        "Bu hücrede gerekli modüller import edilmekte ve Google Gemini ile Hugging Face API anahtarları tanımlanmaktadır.\n",
        "API’ler, modelin metin üretimi ve embedding oluşturması için kullanılır."
      ],
      "metadata": {
        "id": "TXajf2Au4Nlf"
      }
    },
    {
      "cell_type": "code",
      "source": [
        "import google.generativeai as genai\n",
        "from langchain_community.embeddings import HuggingFaceEmbeddings\n",
        "from langchain_community.vectorstores import FAISS\n",
        "from langchain.chains import ConversationalRetrievalChain\n",
        "from langchain_text_splitters import CharacterTextSplitter\n",
        "from langchain_google_genai import ChatGoogleGenerativeAI\n",
        "from datasets import load_dataset\n",
        "from google.colab import userdata\n",
        "import gradio as gr\n",
        "import os\n",
        "\n",
        "try:\n",
        "    from google.colab import userdata\n",
        "    GOOGLE_API_KEY = userdata.get('GOOGLE_API_KEY')\n",
        "    HF_TOKEN = userdata.get('HF_TOKEN')\n",
        "except:\n",
        "    print(\"Secrets bulunamadı\")\n",
        "\n",
        "os.environ['HUGGINGFACE_HUB_TOKEN'] = HF_TOKEN\n",
        "genai.configure(api_key=GOOGLE_API_KEY)\n"
      ],
      "metadata": {
        "id": "Il9vw9tNidzS"
      },
      "execution_count": 2,
      "outputs": []
    },
    {
      "cell_type": "markdown",
      "source": [
        "**3. Veri Seti Hazırlama**\n",
        "\n",
        "Bu hücrede “aliarda/Turkish-Poems-19K” adlı Türkçe şiir veri seti Hugging Face’ten yüklenmektedir.\n",
        "siir_metni sütunundaki ilk 1000 şiir alınarak modelin öğrenmesi için kullanılmaktadır."
      ],
      "metadata": {
        "id": "cZJddFjz4dwT"
      }
    },
    {
      "cell_type": "code",
      "source": [
        "dataset = load_dataset(\"aliarda/Turkish-Poems-19K\", token=HF_TOKEN)\n",
        "print(f\"Veri seti yüklendi! Toplam {len(dataset['train'])} şiir bulundu.\")\n",
        "\n",
        "poems = [\n",
        "    item[\"siir_metni\"].strip()\n",
        "    for item in dataset[\"train\"]\n",
        "    if item[\"siir_metni\"] and isinstance(item[\"siir_metni\"], str) and item[\"siir_metni\"].strip()\n",
        "]\n",
        "poems = poems[:1000]\n",
        "print(f\"{len(poems)} şiir işleme alındı.\")"
      ],
      "metadata": {
        "id": "CfVmQUMJiq2o"
      },
      "execution_count": null,
      "outputs": []
    },
    {
      "cell_type": "markdown",
      "source": [
        "**4. Embedding ve Vektör Veritabanı (FAISS)**\n",
        "\n",
        "Bu aşamada şiirler embedding (vektör temsili) haline getirilir ve FAISS veritabanına kaydedilir.\n",
        "FAISS, metin benzerliğini hızlı hesaplamak için kullanılır.\n",
        "Her şiir parçası 300 karakterlik küçük bölümlere ayrılır."
      ],
      "metadata": {
        "id": "tU74Zzu54sy9"
      }
    },
    {
      "cell_type": "code",
      "source": [
        "embeddings = HuggingFaceEmbeddings(model_name=\"sentence-transformers/paraphrase-multilingual-MiniLM-L12-v2\")\n",
        "text_splitter = CharacterTextSplitter(chunk_size=300, chunk_overlap=50)\n",
        "\n",
        "docs = []\n",
        "for p in poems:\n",
        "    if p and isinstance(p, str) and p.strip():\n",
        "        docs.extend(text_splitter.create_documents([p.strip()]))\n",
        "\n",
        "vectorstore = FAISS.from_documents(docs, embeddings)\n",
        "print(\"✅ FAISS veritabanı oluşturuldu!\")"
      ],
      "metadata": {
        "id": "RoQ9KrWkitu0"
      },
      "execution_count": null,
      "outputs": []
    },
    {
      "cell_type": "markdown",
      "source": [
        "**5. RAG Zinciri ve LLM Modeli**\n",
        "\n",
        "Bu bölümde Gemini 2.5 Pro modeli kullanılarak LangChain tabanlı bir RAG zinciri oluşturulur.\n",
        "Kullanıcının girdiği temaya göre, veri tabanındaki benzer şiirlerden esinlenerek yeni bir şiir üretilir."
      ],
      "metadata": {
        "id": "7xSEiBIs5FEw"
      }
    },
    {
      "cell_type": "code",
      "source": [
        "llm = ChatGoogleGenerativeAI(\n",
        "    model=\"gemini-2.5-pro\",\n",
        "    google_api_key=GOOGLE_API_KEY,\n",
        "    temperature=0.8\n",
        ")\n",
        "\n",
        "qa_chain = ConversationalRetrievalChain.from_llm(\n",
        "    llm=llm,\n",
        "    retriever=vectorstore.as_retriever(search_kwargs={\"k\": 3}),\n",
        "    return_source_documents=True\n",
        ")\n",
        "\n",
        "print(\"Sistem hazır! Şiir üretmeye hazırsınız\")\n"
      ],
      "metadata": {
        "id": "fmF_wxVfiv8p"
      },
      "execution_count": null,
      "outputs": []
    },
    {
      "cell_type": "markdown",
      "source": [
        "**6. Gradio Arayüzü**\n",
        "\n",
        "Bu hücre, Gradio kullanarak etkileşimli bir web arayüzü oluşturur.\n",
        "Kullanıcı şiir temasını yazar, sistem RAG modeliyle yeni bir Türkçe şiir üretir."
      ],
      "metadata": {
        "id": "okIYVBJL5QPm"
      }
    },
    {
      "cell_type": "code",
      "source": [
        "def siir_uretici(tema):\n",
        "    prompt = f\"\"\"Türkçe, sanatsal ve kafiyeli bir şiir yaz.\n",
        "    Şiir şu temaya uygun olmalı: '{tema}'.\n",
        "    Veri tabanındaki Türkçe şiirlerin tarzından esinlen:\n",
        "    Şiir özellikleri:\n",
        "    - Her dize kısa olsun (4–8 kelime arası)\n",
        "    - Son kelimelerde kafiye uyumu bulunsun\n",
        "    - Gerekirse iç uyak (iç kafiye) da kullanılabilir\n",
        "    - Akıcı, duygusal ve imgelerle dolu olsun\n",
        "    - Doğa ve insan temaları kullanılabilir\n",
        "    - Sadece şiiri yaz, açıklama yapma.\n",
        "    \"\"\"\n",
        "\n",
        "    response = qa_chain.invoke({\"question\": prompt, \"chat_history\": []})\n",
        "    return response[\"answer\"].strip()\n",
        "\n",
        "\n",
        "demo = gr.Interface(\n",
        "    fn=siir_uretici,\n",
        "    inputs=gr.Textbox(\n",
        "        label=\"🎭 Şiir Teması\",\n",
        "        placeholder=\"Örnek: Ayrılık, doğa, aşk...\",\n",
        "        lines=1\n",
        "    ),\n",
        "    outputs=gr.Textbox(\n",
        "        label=\"Üretilen Şiir\",\n",
        "        lines=10,\n",
        "        max_lines=20\n",
        "    ),\n",
        "    title=\"Türkçe Şiir Üretici\",\n",
        "    theme=\"soft\",\n",
        "    allow_flagging=\"never\"\n",
        ")\n",
        "\n",
        "demo.launch(share=True)"
      ],
      "metadata": {
        "id": "M4Rh9mYEizDZ"
      },
      "execution_count": null,
      "outputs": []
    }
  ]
}